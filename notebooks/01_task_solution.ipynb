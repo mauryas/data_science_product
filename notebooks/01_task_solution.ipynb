{
 "cells": [
  {
   "cell_type": "markdown",
   "id": "27c145b6-80dd-4811-bfe7-a6e4efeda69a",
   "metadata": {},
   "source": [
    "## 1. Provide two examples in which supervised and unsupervised learning can be applied. \n",
    "### 1.1. Supervised Learning\n",
    "#### 1.1.1 Battery lifetime prediction\n",
    "Battery lifetime prediction refers to the estimation of the remaining useful life of a battery based on various factors such as charge-discharge cycles, temperature, and usage patterns. Accurate prediction is crucial for optimizing battery usage, preventing unexpected failures, and maximizing the overall lifespan of energy storage systems. The opportunities lie in developing advanced predictive algorithms, incorporating real-time data, and leveraging machine learning techniques to enhance accuracy. It can lead to improved battery management strategies, reduced maintenance costs, and increased reliability in various applications, from electric vehicles to renewable energy storage. \n",
    "\n",
    "#### 1.1.2 Battery failure detection\n",
    "Battery failure detection involves identifying abnormalities or malfunctions in a battery system that may lead to a loss of performance, capacity, or safety issues. A machine learning algorithms trained on past failures can help in detecting early signs of battery degradation or faults. A robust failure detection systems can enhance the safety and reliability of batteries in electric vehicles, and ultimately extending the overall lifespan and performance of battery systems.\n",
    " \n",
    "### 1.2 Unsupervised Learning\n",
    "#### 1.2.1. Anomaly detection\n",
    "Anomaly detection in electric vehicle (EV) batteries involves identifying abnormal behavior or deviations from expected performance in the battery system. Distinguishing between benign fluctuations and serious faults is critical. Unsupervised learning is essential in this context because anomalies in EV battery behavior can be diverse and may evolve over time, making it challenging to have a comprehensive labeled dataset.\n",
    "\n",
    "#### 1.2.2. Segmentation of battery operating condition\n",
    "The electric vehicle batteries will operate in a different conditions related to environment (temperature, humidity, etc), load (passanger, terrain (mountain, plain), usage (long distance, short distance), operating characteristics ( discharge rate, state of health), etc. Clustering methods will be useful in identifying patterns  in the battery operating conditions. "
   ]
  },
  {
   "cell_type": "markdown",
   "id": "dc9b002d-5452-4fdd-9083-5978ce7a6c1b",
   "metadata": {},
   "source": [
    "## 2. What is the difference between regression and classification task?\n",
    "The goal of Regression and Classification learning is to learn a mapping function from the input to the output based on the provided labeled examples. \n",
    "\n",
    "Regression is a type of supervised learning where the goal is to predict a continuous output variable. In regression, the algorithm learns the relationship between input features and a continuous target variable. The goal is to minimize the difference between the predicted values and the actual values. \n",
    "\n",
    "Where as, in classification the goal is to predict the categorical class label of a new instance based on its features. The goal is to accurately predict the label of features. "
   ]
  },
  {
   "cell_type": "markdown",
   "id": "258d6018-efec-4a6c-bf33-2faea655339c",
   "metadata": {},
   "source": [
    "## 3. Why do you have n-fold cross validation to evaluate models?\n",
    "n-fold cross validation is used for assesment of performance of the models, and it is done by dividing the data into n equal folds. Then n models are iterative trained on n-1 fold and the remain 1 fold is used for testing. It provides a robust estimate of how well a model generalizes to new, unseen data. There by helping to detecting overfitting by providing a more realistic estimate of a model's performance on new data. It is used to compare different machine learning algorithm and/or to tune the hyper parameters of a model.\n",
    "\n",
    "It is well suited for limited data as it provides opportunity to use all the avaliable data for training. "
   ]
  },
  {
   "cell_type": "markdown",
   "id": "83d181a3-bf99-468d-baec-eddb13b74136",
   "metadata": {},
   "source": [
    "## 4. Find the closes city to city 2 according to the Euclidian distance."
   ]
  },
  {
   "cell_type": "code",
   "execution_count": 1,
   "id": "8bf8f72a-1d48-4dc5-8404-4f970d9a1192",
   "metadata": {},
   "outputs": [],
   "source": [
    "import pandas as pd \n",
    "from tasks.nearest_point import PointMap, Point #module to calculte euclidian distance."
   ]
  },
  {
   "cell_type": "markdown",
   "id": "2a0f9f34-0a24-4d6a-84a1-d8fc04114483",
   "metadata": {},
   "source": [
    "#### 4.1 Load city coordinates"
   ]
  },
  {
   "cell_type": "code",
   "execution_count": 2,
   "id": "db2c7c68-36cc-41b6-b413-100f1680e2ab",
   "metadata": {},
   "outputs": [],
   "source": [
    "df = pd.read_csv('data/raw_data/sample_distance.csv')"
   ]
  },
  {
   "cell_type": "code",
   "execution_count": 3,
   "id": "98fc6263-fc32-419a-a30b-bcebff96cdd7",
   "metadata": {},
   "outputs": [
    {
     "name": "stdout",
     "output_type": "stream",
     "text": [
      "Point(City 1, (12, 8))\n",
      "Point(City 2, (17, 11))\n",
      "Point(City 3, (4, 8))\n",
      "Point(City 4, (17, 14))\n",
      "Point(City 5, (5, 3))\n",
      "Point(City 6, (7, 9))\n"
     ]
    }
   ],
   "source": [
    "points_obj = PointMap()\n",
    "points_obj.parse_dataframe(df)\n",
    "points_obj.print_points()"
   ]
  },
  {
   "cell_type": "markdown",
   "id": "229ebb14-ac4a-4de2-934c-bbb996cf6737",
   "metadata": {},
   "source": [
    "#### 4.2 Find the closes to City 2"
   ]
  },
  {
   "cell_type": "code",
   "execution_count": 4,
   "id": "1db31016-f410-4574-b3d5-76da174802ea",
   "metadata": {},
   "outputs": [
    {
     "name": "stdout",
     "output_type": "stream",
     "text": [
      "Point(City 4, (17, 14))\n"
     ]
    }
   ],
   "source": [
    "closest_point = points_obj.calculate_closest_point(Point('City 2', 17, 11))\n",
    "closest_point.print_point()"
   ]
  },
  {
   "cell_type": "markdown",
   "id": "ccb745bf-63db-4a85-8d8f-298e1cd34d1c",
   "metadata": {},
   "source": [
    "## 5. Specify two stopping criteria for training decision trees.\n",
    "#### 5.1. Maximum tree depth\n",
    "The complexity of a decision tree increases with its depth. This leads to model overfitting the training data. A criteria based on depth of tree can be used to stop further training of the model.\n",
    "#### 5.2. Minimum Samples per Leaf \n",
    "Providing a minimum number of samples per leaf helps control the granularity of the tree. Nodes with very few samples might capture noise and not represent the true underlying patterns in the data. This criterion helps prevent the creation of overly specific nodes with limited data, promoting more robust generalization."
   ]
  },
  {
   "cell_type": "markdown",
   "id": "86113532-c1bd-428f-aef8-7483f2fafa51",
   "metadata": {},
   "source": [
    "## 6. Extract classification rules and construct a decision tree."
   ]
  },
  {
   "cell_type": "code",
   "execution_count": 5,
   "id": "a39fe424-ec38-41bf-8b12-53111c01a1fc",
   "metadata": {},
   "outputs": [],
   "source": [
    "import pandas as pd\n",
    "\n",
    "from tasks.decision_tree import DecisionTreeTrainer, FeatureEnginerring\n",
    "from tasks.constants import DECISION_TREE_TARGET"
   ]
  },
  {
   "cell_type": "markdown",
   "id": "457f5a04-d187-4e47-9a47-cba539fe2ebc",
   "metadata": {},
   "source": [
    "#### Load data"
   ]
  },
  {
   "cell_type": "code",
   "execution_count": 6,
   "id": "6e8c4026-71d6-4e5b-a8ab-f94f9523aa98",
   "metadata": {},
   "outputs": [
    {
     "data": {
      "text/html": [
       "<div>\n",
       "<style scoped>\n",
       "    .dataframe tbody tr th:only-of-type {\n",
       "        vertical-align: middle;\n",
       "    }\n",
       "\n",
       "    .dataframe tbody tr th {\n",
       "        vertical-align: top;\n",
       "    }\n",
       "\n",
       "    .dataframe thead th {\n",
       "        text-align: right;\n",
       "    }\n",
       "</style>\n",
       "<table border=\"1\" class=\"dataframe\">\n",
       "  <thead>\n",
       "    <tr style=\"text-align: right;\">\n",
       "      <th></th>\n",
       "      <th>age</th>\n",
       "      <th>income</th>\n",
       "      <th>student</th>\n",
       "      <th>creditRating</th>\n",
       "      <th>buysComputer</th>\n",
       "    </tr>\n",
       "  </thead>\n",
       "  <tbody>\n",
       "    <tr>\n",
       "      <th>0</th>\n",
       "      <td>&lt;=30</td>\n",
       "      <td>high</td>\n",
       "      <td>no</td>\n",
       "      <td>fair</td>\n",
       "      <td>no</td>\n",
       "    </tr>\n",
       "    <tr>\n",
       "      <th>1</th>\n",
       "      <td>&lt;=30</td>\n",
       "      <td>high</td>\n",
       "      <td>no</td>\n",
       "      <td>excellent</td>\n",
       "      <td>no</td>\n",
       "    </tr>\n",
       "    <tr>\n",
       "      <th>2</th>\n",
       "      <td>30-40</td>\n",
       "      <td>high</td>\n",
       "      <td>no</td>\n",
       "      <td>fair</td>\n",
       "      <td>yes</td>\n",
       "    </tr>\n",
       "    <tr>\n",
       "      <th>3</th>\n",
       "      <td>&gt;40</td>\n",
       "      <td>medium</td>\n",
       "      <td>no</td>\n",
       "      <td>fair</td>\n",
       "      <td>yes</td>\n",
       "    </tr>\n",
       "    <tr>\n",
       "      <th>4</th>\n",
       "      <td>&gt;40</td>\n",
       "      <td>low</td>\n",
       "      <td>yes</td>\n",
       "      <td>fair</td>\n",
       "      <td>yes</td>\n",
       "    </tr>\n",
       "  </tbody>\n",
       "</table>\n",
       "</div>"
      ],
      "text/plain": [
       "     age  income student creditRating buysComputer\n",
       "0   <=30    high      no         fair           no\n",
       "1   <=30    high      no    excellent           no\n",
       "2  30-40    high      no         fair          yes\n",
       "3    >40  medium      no         fair          yes\n",
       "4    >40     low     yes         fair          yes"
      ]
     },
     "execution_count": 6,
     "metadata": {},
     "output_type": "execute_result"
    }
   ],
   "source": [
    "df = pd.read_csv('data/raw_data/buy_computer.csv', dtype=str)\n",
    "df.head()"
   ]
  },
  {
   "cell_type": "code",
   "execution_count": 7,
   "id": "55000f2e-c588-4ed1-94e9-fd78a895cc29",
   "metadata": {},
   "outputs": [
    {
     "name": "stdout",
     "output_type": "stream",
     "text": [
      "Mean accuracy across all folds 0.6667\n"
     ]
    }
   ],
   "source": [
    "# Instantiate DecisionTreeTrainer\n",
    "decision_tree_trainer = DecisionTreeTrainer()\n",
    "\n",
    "X = decision_tree_trainer.preprocessing(df)\n",
    "y = df[DECISION_TREE_TARGET]\n",
    "\n",
    "# Train decision tree with cross-validation\n",
    "accuracy = decision_tree_trainer.train_with_cross_validation(X, y)\n",
    "print(f'Mean accuracy across all folds {round(accuracy, 4)}')"
   ]
  },
  {
   "cell_type": "code",
   "execution_count": 8,
   "id": "6417100a-2bdb-4b13-841a-ae2af5cbf197",
   "metadata": {},
   "outputs": [
    {
     "name": "stdout",
     "output_type": "stream",
     "text": [
      "Decision Tree Rules:\n",
      "|--- no <= 0.50\n",
      "|   |--- age <= 1.50\n",
      "|   |   |--- class: yes\n",
      "|   |--- age >  1.50\n",
      "|   |   |--- creditRating <= 0.50\n",
      "|   |   |   |--- class: yes\n",
      "|   |   |--- creditRating >  0.50\n",
      "|   |   |   |--- class: no\n",
      "|--- no >  0.50\n",
      "|   |--- age <= 0.50\n",
      "|   |   |--- class: no\n",
      "|   |--- age >  0.50\n",
      "|   |   |--- age <= 1.50\n",
      "|   |   |   |--- class: yes\n",
      "|   |   |--- age >  1.50\n",
      "|   |   |   |--- creditRating <= 0.50\n",
      "|   |   |   |   |--- class: yes\n",
      "|   |   |   |--- creditRating >  0.50\n",
      "|   |   |   |   |--- class: no\n",
      "\n"
     ]
    }
   ],
   "source": [
    "decision_tree_trainer.print_rules(X, y)"
   ]
  },
  {
   "cell_type": "code",
   "execution_count": null,
   "id": "0d707d9e-3afe-4bac-89db-afa726281f18",
   "metadata": {},
   "outputs": [],
   "source": []
  }
 ],
 "metadata": {
  "kernelspec": {
   "display_name": "Python 3 (ipykernel)",
   "language": "python",
   "name": "python3"
  },
  "language_info": {
   "codemirror_mode": {
    "name": "ipython",
    "version": 3
   },
   "file_extension": ".py",
   "mimetype": "text/x-python",
   "name": "python",
   "nbconvert_exporter": "python",
   "pygments_lexer": "ipython3",
   "version": "3.11.6"
  }
 },
 "nbformat": 4,
 "nbformat_minor": 5
}
